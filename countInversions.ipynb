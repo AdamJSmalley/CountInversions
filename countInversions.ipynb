{
 "metadata": {
  "language_info": {
   "codemirror_mode": {
    "name": "ipython",
    "version": 3
   },
   "file_extension": ".py",
   "mimetype": "text/x-python",
   "name": "python",
   "nbconvert_exporter": "python",
   "pygments_lexer": "ipython3",
   "version": "3.8.5"
  },
  "orig_nbformat": 2,
  "kernelspec": {
   "name": "python385jvsc74a57bd00bf9853d4d67993dadaf6cf1bf2531bc27b649f43bff117aac2c43becbe91d28",
   "display_name": "Python 3.8.5 64-bit ('base': conda)"
  }
 },
 "nbformat": 4,
 "nbformat_minor": 2,
 "cells": [
  {
   "cell_type": "code",
   "execution_count": 19,
   "metadata": {},
   "outputs": [],
   "source": [
    "f = open(\"IntegerArray.txt\", \"r\")"
   ]
  },
  {
   "cell_type": "code",
   "execution_count": 20,
   "metadata": {
    "tags": []
   },
   "outputs": [],
   "source": [
    "integars = []\n",
    "for l in f:\n",
    "    integars.append(int(l.rstrip()))"
   ]
  },
  {
   "cell_type": "code",
   "execution_count": 21,
   "metadata": {
    "tags": []
   },
   "outputs": [],
   "source": [
    "#print(integars)"
   ]
  },
  {
   "cell_type": "code",
   "execution_count": 22,
   "metadata": {},
   "outputs": [],
   "source": [
    "def count(A, inversions):\n",
    "    \n",
    "    n = len(A)\n",
    "\n",
    "    if n==1:\n",
    "        return A, inversions\n",
    "\n",
    "    else:\n",
    "        mid = int(n/2)\n",
    "\n",
    "        a, x = count(A[:mid], inversions)\n",
    "        b, y = count(A[mid:], inversions)\n",
    "        z, d = countSplitInv(a, b, n)\n",
    "\n",
    "        tot = x + y + z\n",
    "\n",
    "    return d, tot"
   ]
  },
  {
   "cell_type": "code",
   "execution_count": 25,
   "metadata": {},
   "outputs": [],
   "source": [
    "def countSplitInv( a, b, n ):\n",
    "\n",
    "    d = []\n",
    "    inversions = 0\n",
    "    i = j = k = 0\n",
    "\n",
    "    alen = len(a)\n",
    "    blen = len(b)\n",
    "\n",
    "    #print(\"a is \")\n",
    "    #print(*a)\n",
    "    #print(\"b is \")\n",
    "    #print(*b)\n",
    "\n",
    "    while( k < n ):\n",
    "\n",
    "        #print(\"k is\" + str(k) + \" len is \" + str(len(d)))\n",
    "        #print(\"i is\" + str(i) + \" len is \" + str(len(b)))\n",
    "        #print(\"n is\" + str(n))\n",
    "\n",
    "        if i == alen:\n",
    "            d.extend(b[j:])\n",
    "            break\n",
    "\n",
    "        if j == blen:\n",
    "            d.extend(a[i:])\n",
    "            break\n",
    "    \n",
    "        if a[i] < b[j]:\n",
    "\n",
    "            d.append(a[i])\n",
    "            i += 1\n",
    "\n",
    "        else:\n",
    "            d.append(b[j])\n",
    "            j += 1\n",
    "\n",
    "            inversions += alen - i\n",
    "        \n",
    "        k += 1\n",
    "\n",
    "    #print(\"print d is\")\n",
    "    #print(*d)\n",
    "\n",
    "    return inversions, d"
   ]
  },
  {
   "cell_type": "code",
   "execution_count": 26,
   "metadata": {
    "tags": []
   },
   "outputs": [
    {
     "output_type": "stream",
     "name": "stdout",
     "text": [
      "2407905288\n"
     ]
    }
   ],
   "source": [
    "sorted, total = count( integars, 0)\n",
    "print(total)\n",
    "#print(sorted)"
   ]
  },
  {
   "cell_type": "code",
   "execution_count": null,
   "metadata": {},
   "outputs": [],
   "source": []
  }
 ]
}